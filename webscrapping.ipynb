{
 "cells": [
  {
   "cell_type": "code",
   "execution_count": 1,
   "id": "43ee1521",
   "metadata": {},
   "outputs": [],
   "source": [
    "#krish naik web scrapping "
   ]
  },
  {
   "cell_type": "markdown",
   "id": "9b726087",
   "metadata": {},
   "source": [
    "# install Autoscraper"
   ]
  },
  {
   "cell_type": "code",
   "execution_count": 2,
   "id": "98fbf043",
   "metadata": {},
   "outputs": [
    {
     "name": "stdout",
     "output_type": "stream",
     "text": [
      "Defaulting to user installation because normal site-packages is not writeable\n",
      "Requirement already satisfied: autoscraper in /nfs/cms/mtech23/lute.gaurav/.local/lib/python3.10/site-packages (1.1.14)\n",
      "Requirement already satisfied: requests in /usr/lib/python3/dist-packages (from autoscraper) (2.25.1)\n",
      "Requirement already satisfied: lxml in /usr/lib/python3/dist-packages (from autoscraper) (4.8.0)\n",
      "Requirement already satisfied: bs4 in /nfs/cms/mtech23/lute.gaurav/.local/lib/python3.10/site-packages (from autoscraper) (0.0.2)\n",
      "Requirement already satisfied: beautifulsoup4 in /usr/lib/python3/dist-packages (from bs4->autoscraper) (4.10.0)\n",
      "Note: you may need to restart the kernel to use updated packages.\n"
     ]
    }
   ],
   "source": [
    "pip install autoscraper "
   ]
  },
  {
   "cell_type": "code",
   "execution_count": 11,
   "id": "08f17161",
   "metadata": {},
   "outputs": [
    {
     "name": "stdout",
     "output_type": "stream",
     "text": [
      "['5,131', '41', '1,113', '94', '87', '119', '289', '1,812', '14', '18', '167', '864', '157', '165', '1,611', '36', '634', '12', '564', '74', '62', '30', '69', '52', '10', '17', '13', '9', 'The-Grand-Complete-Data-Science-Materials', 'Data-Science-Projects-For-Resumes', 'Perfect-Roadmap-To-Learn-Data-Science-In-2024', 'bostonhousepricing', 'Text-Summarization-NLP-Project', 'Google-Gemini-Crash-Course', 'mlproject', 'Roadmap-To-Learn-Generative-AI-In-2024', 'AWS-Bedrock', 'Llamindex-Projects', '5-Days-Live-EDA-and-Feature-Engineering', 'Interview-Prepartion-Data-Science', 'Complete-Langchain-Tutorials', 'Roadmap-To-Become-Data-Analyst-2024', '6-Months-Data-Science-Roadmap-', 'Invoice-Extractor-LLM-APP', 'End-To-End-Gemini-Project', 'Data-Analyst-Roadmap', 'Deep-Learning-Hindi', 'Python-Practise-Problems', 'FastAPI', 'Kidney-Disease-Classification-Deep-Learning-Project', 'mlprojecthindi', 'Complete-Machine-Learning-2023', 'sql-test', 'Trnasformer-Bert', 'practisegit', 'flaskineuron', 'mlflowexperiments', 'gitpractise']\n"
     ]
    }
   ],
   "source": [
    "from autoscraper import AutoScraper\n",
    "url = 'https://github.com/krishnaik06?tab=repositories'\n",
    "# we can add multiple candidate here \n",
    "# you can also put urls here to retrivie url \n",
    "wanted_list = ['5,131','The-Grand-Complete-Data-Science-Materials',]\n",
    "\n",
    "scraper = AutoScraper()\n",
    "result = scraper.build(url,wanted_list)\n",
    "print(result)"
   ]
  },
  {
   "cell_type": "code",
   "execution_count": 13,
   "id": "658ed515",
   "metadata": {},
   "outputs": [
    {
     "data": {
      "text/plain": [
       "{'rule_d42k': ['5,131',\n",
       "  '41',\n",
       "  '1,113',\n",
       "  '94',\n",
       "  '87',\n",
       "  '119',\n",
       "  '289',\n",
       "  '1,812',\n",
       "  '14',\n",
       "  '18',\n",
       "  '167',\n",
       "  '864',\n",
       "  '157',\n",
       "  '165',\n",
       "  '1,611',\n",
       "  '18',\n",
       "  '36',\n",
       "  '634',\n",
       "  '12',\n",
       "  '564',\n",
       "  '74',\n",
       "  '62',\n",
       "  '30',\n",
       "  '69',\n",
       "  '18',\n",
       "  '52',\n",
       "  '10',\n",
       "  '17',\n",
       "  '13',\n",
       "  '9'],\n",
       " 'rule_742l': ['The-Grand-Complete-Data-Science-Materials',\n",
       "  'Data-Science-Projects-For-Resumes',\n",
       "  'Perfect-Roadmap-To-Learn-Data-Science-In-2024',\n",
       "  'bostonhousepricing',\n",
       "  'Text-Summarization-NLP-Project',\n",
       "  'Google-Gemini-Crash-Course',\n",
       "  'mlproject',\n",
       "  'Roadmap-To-Learn-Generative-AI-In-2024',\n",
       "  'AWS-Bedrock',\n",
       "  'Llamindex-Projects',\n",
       "  '5-Days-Live-EDA-and-Feature-Engineering',\n",
       "  'Interview-Prepartion-Data-Science',\n",
       "  'Complete-Langchain-Tutorials',\n",
       "  'Roadmap-To-Become-Data-Analyst-2024',\n",
       "  '6-Months-Data-Science-Roadmap-',\n",
       "  'Invoice-Extractor-LLM-APP',\n",
       "  'End-To-End-Gemini-Project',\n",
       "  'Data-Analyst-Roadmap',\n",
       "  'Deep-Learning-Hindi',\n",
       "  'Python-Practise-Problems',\n",
       "  'FastAPI',\n",
       "  'Kidney-Disease-Classification-Deep-Learning-Project',\n",
       "  'mlprojecthindi',\n",
       "  'Complete-Machine-Learning-2023',\n",
       "  'sql-test',\n",
       "  'Trnasformer-Bert',\n",
       "  'practisegit',\n",
       "  'flaskineuron',\n",
       "  'mlflowexperiments',\n",
       "  'gitpractise']}"
      ]
     },
     "execution_count": 13,
     "metadata": {},
     "output_type": "execute_result"
    }
   ],
   "source": [
    "scraper.get_result_similar('https://github.com/krishnaik06?tab=repositories',grouped = True)"
   ]
  },
  {
   "cell_type": "code",
   "execution_count": 17,
   "id": "87ba7bd4",
   "metadata": {},
   "outputs": [],
   "source": [
    "scraper.set_rule_aliases({'rule_d42k':'stars','rule_742l':'title'})\n",
    "scraper.keep_rules(['rule_d42k','rule_742l'])\n",
    "scraper.save('github-repository-search')"
   ]
  },
  {
   "cell_type": "code",
   "execution_count": 18,
   "id": "8cd3f110",
   "metadata": {},
   "outputs": [],
   "source": [
    "scraper.load('github-repository-search')"
   ]
  },
  {
   "cell_type": "code",
   "execution_count": 23,
   "id": "47a2ef4d",
   "metadata": {},
   "outputs": [],
   "source": [
    "result = scraper.get_result_similar(\"https://github.com/iNeuronai?tab=repositories\",group_by_alias=True)"
   ]
  },
  {
   "cell_type": "code",
   "execution_count": 24,
   "id": "88351706",
   "metadata": {},
   "outputs": [
    {
     "data": {
      "text/plain": [
       "{'stars': ['3',\n",
       "  '13',\n",
       "  '1',\n",
       "  '3',\n",
       "  '2',\n",
       "  '2',\n",
       "  '2',\n",
       "  '2',\n",
       "  '1',\n",
       "  '12',\n",
       "  '1',\n",
       "  '1',\n",
       "  '3',\n",
       "  '1',\n",
       "  '4',\n",
       "  '9',\n",
       "  '2',\n",
       "  '13',\n",
       "  '4',\n",
       "  '4',\n",
       "  '7',\n",
       "  '9',\n",
       "  '6',\n",
       "  '1,574',\n",
       "  '7'],\n",
       " 'title': ['scrap_eng_pw_skills',\n",
       "  'review-scrapper-aws-main',\n",
       "  'testststtststst',\n",
       "  'review_sc_hindi',\n",
       "  'the-algorithm',\n",
       "  'pw_eng_image_scrap',\n",
       "  'pw_hindi_image_scrap',\n",
       "  'image_scraper',\n",
       "  'new_pw_eng_scrap',\n",
       "  'review_azure',\n",
       "  'review_scrap_pwskills-hindi',\n",
       "  'webscrapper_hindi_aws',\n",
       "  'flask_app_a',\n",
       "  'rwewrw',\n",
       "  'testing',\n",
       "  'flask_app',\n",
       "  'scrapper1',\n",
       "  'scrap',\n",
       "  'imagescrapper_sc',\n",
       "  'aws_scrapper',\n",
       "  'scrapper',\n",
       "  'ytrey',\n",
       "  'pandas',\n",
       "  'task_oops_sol',\n",
       "  'oops-day-2',\n",
       "  'mongodb_oops',\n",
       "  'sql-and-mongo',\n",
       "  'sql',\n",
       "  'interview-question-data-science-',\n",
       "  'chabot_video_codes']}"
      ]
     },
     "execution_count": 24,
     "metadata": {},
     "output_type": "execute_result"
    }
   ],
   "source": [
    "result"
   ]
  },
  {
   "cell_type": "code",
   "execution_count": 25,
   "id": "4ac9d6fb",
   "metadata": {},
   "outputs": [
    {
     "data": {
      "text/plain": [
       "['scrap_eng_pw_skills',\n",
       " 'review-scrapper-aws-main',\n",
       " 'testststtststst',\n",
       " 'review_sc_hindi',\n",
       " 'the-algorithm',\n",
       " 'pw_eng_image_scrap',\n",
       " 'pw_hindi_image_scrap',\n",
       " 'image_scraper',\n",
       " 'new_pw_eng_scrap',\n",
       " 'review_azure',\n",
       " 'review_scrap_pwskills-hindi',\n",
       " 'webscrapper_hindi_aws',\n",
       " 'flask_app_a',\n",
       " 'rwewrw',\n",
       " 'testing',\n",
       " 'flask_app',\n",
       " 'scrapper1',\n",
       " 'scrap',\n",
       " 'imagescrapper_sc',\n",
       " 'aws_scrapper',\n",
       " 'scrapper',\n",
       " 'ytrey',\n",
       " 'pandas',\n",
       " 'task_oops_sol',\n",
       " 'oops-day-2',\n",
       " 'mongodb_oops',\n",
       " 'sql-and-mongo',\n",
       " 'sql',\n",
       " 'interview-question-data-science-',\n",
       " 'chabot_video_codes']"
      ]
     },
     "execution_count": 25,
     "metadata": {},
     "output_type": "execute_result"
    }
   ],
   "source": [
    "result['title']"
   ]
  },
  {
   "cell_type": "code",
   "execution_count": null,
   "id": "4542662b",
   "metadata": {},
   "outputs": [],
   "source": []
  },
  {
   "cell_type": "code",
   "execution_count": null,
   "id": "a4a07f7a",
   "metadata": {},
   "outputs": [],
   "source": []
  },
  {
   "cell_type": "code",
   "execution_count": null,
   "id": "1c510dd3",
   "metadata": {},
   "outputs": [],
   "source": []
  },
  {
   "cell_type": "code",
   "execution_count": null,
   "id": "25f6c0d1",
   "metadata": {},
   "outputs": [],
   "source": []
  }
 ],
 "metadata": {
  "kernelspec": {
   "display_name": "Python 3 (ipykernel)",
   "language": "python",
   "name": "python3"
  },
  "language_info": {
   "codemirror_mode": {
    "name": "ipython",
    "version": 3
   },
   "file_extension": ".py",
   "mimetype": "text/x-python",
   "name": "python",
   "nbconvert_exporter": "python",
   "pygments_lexer": "ipython3",
   "version": "3.10.12"
  }
 },
 "nbformat": 4,
 "nbformat_minor": 5
}
