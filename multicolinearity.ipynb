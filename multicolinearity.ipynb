{
 "cells": [
  {
   "cell_type": "code",
   "execution_count": 1,
   "id": "0226e5d7",
   "metadata": {
    "scrolled": true
   },
   "outputs": [
    {
     "data": {
      "text/plain": [
       "array([[ 1. ,  1. ,  1.2],\n",
       "       [ 1. ,  2. ,  2.1],\n",
       "       [ 1. ,  3. ,  3.1],\n",
       "       [ 1. ,  4. ,  4.1],\n",
       "       [ 1. ,  5. ,  5. ],\n",
       "       [ 1. ,  6. ,  6. ],\n",
       "       [ 1. ,  7. ,  7. ],\n",
       "       [ 1. ,  8. ,  8. ],\n",
       "       [ 1. ,  9. ,  9.1],\n",
       "       [ 1. , 10. , 10.2]])"
      ]
     },
     "execution_count": 1,
     "metadata": {},
     "output_type": "execute_result"
    }
   ],
   "source": [
    "import numpy as np\n",
    "\n",
    "arr = np.array([[1,1,1,1,1,1,1,1,1,1],[1, 2, 3, 4, 5, 6, 7, 8, 9, 10],[1.2, 2.1, 3.1, 4.1, 5.0, 6.0, 7.0, 8.0, 9.1, 10.2]]).T\n",
    "arr"
   ]
  },
  {
   "cell_type": "code",
   "execution_count": 2,
   "id": "d23ef83b",
   "metadata": {},
   "outputs": [
    {
     "data": {
      "text/plain": [
       "29104.19736331761"
      ]
     },
     "execution_count": 2,
     "metadata": {},
     "output_type": "execute_result"
    }
   ],
   "source": [
    "np.linalg.cond(np.dot(arr.T, arr))"
   ]
  },
  {
   "cell_type": "code",
   "execution_count": 3,
   "id": "eeda0386",
   "metadata": {
    "scrolled": true
   },
   "outputs": [
    {
     "data": {
      "text/plain": [
       "array([[  0.67713004,   1.89686099,  -1.97309417],\n",
       "       [  1.89686099,  18.3309417 , -18.40807175],\n",
       "       [ -1.97309417, -18.40807175,  18.49775785]])"
      ]
     },
     "execution_count": 3,
     "metadata": {},
     "output_type": "execute_result"
    }
   ],
   "source": [
    "np.linalg.inv(np.dot(arr.T, arr))"
   ]
  },
  {
   "cell_type": "code",
   "execution_count": 4,
   "id": "3ac70f91",
   "metadata": {
    "scrolled": true
   },
   "outputs": [
    {
     "data": {
      "text/plain": [
       "array([[ 0.46684896, -0.06359872, -0.00341803],\n",
       "       [-0.06359872,  0.06375331, -0.05752395],\n",
       "       [-0.00341803, -0.05752395,  0.06408812]])"
      ]
     },
     "execution_count": 4,
     "metadata": {},
     "output_type": "execute_result"
    }
   ],
   "source": [
    "arr = np.array([[1,1,1,1,1,1,1,1,1,1],[1, 2, 3, 4, 5, 6, 7, 8, 9, 10],[2.4, 0.7, 4.3, 3.5, 1.6, 5.1, 6.9, 7.5, 8.1, 9.8]]).T\n",
    "np.linalg.inv(np.dot(arr.T,arr))"
   ]
  },
  {
   "cell_type": "code",
   "execution_count": 5,
   "id": "7f0ad4df",
   "metadata": {
    "scrolled": true
   },
   "outputs": [
    {
     "data": {
      "text/plain": [
       "341.04169922403804"
      ]
     },
     "execution_count": 5,
     "metadata": {},
     "output_type": "execute_result"
    }
   ],
   "source": [
    "arr = np.array([[ 0.46684896, -0.06359872, -0.00341803],\n",
    "       [-0.06359872,  0.06375331, -0.05752395],\n",
    "       [-0.00341803, -0.05752395,  0.06408812]])\n",
    "np.linalg.cond(arr)"
   ]
  },
  {
   "cell_type": "markdown",
   "id": "1d7fbbfd",
   "metadata": {},
   "source": [
    "# Condition Number"
   ]
  },
  {
   "cell_type": "code",
   "execution_count": 6,
   "id": "c594c5dd",
   "metadata": {},
   "outputs": [
    {
     "name": "stdout",
     "output_type": "stream",
     "text": [
      "condition number: 341.04169922403804\n"
     ]
    }
   ],
   "source": [
    "# smallest eigenvalues / largest eigenvalues\n",
    "A = np.array([[1,2],\n",
    "            [3,4]])\n",
    "condition_number = np.linalg.cond(arr)\n",
    "print('condition number:',condition_number)"
   ]
  },
  {
   "cell_type": "markdown",
   "id": "c0c865c4",
   "metadata": {},
   "source": [
    "1. correlation"
   ]
  },
  {
   "cell_type": "code",
   "execution_count": 7,
   "id": "19227e1e",
   "metadata": {
    "scrolled": false
   },
   "outputs": [
    {
     "data": {
      "text/plain": [
       "array([[ 0.47202303, -0.06705466, -0.00051139],\n",
       "       [-0.06705466,  0.06552638, -0.05891698],\n",
       "       [-0.00051139, -0.05891698,  0.06515911]])"
      ]
     },
     "execution_count": 7,
     "metadata": {},
     "output_type": "execute_result"
    }
   ],
   "source": [
    "arr = np.array([[1,1,1,1,1,1,1,1,1,1],[1.1, 2, 3, 4, 5, 6, 7, 8, 9, 10],[2.4, 0.7, 4.3, 3.5, 1.6, 5.1, 6.9, 7.5, 8.1, 9.8]]).T\n",
    "np.linalg.inv(np.dot(arr.T,arr))"
   ]
  },
  {
   "cell_type": "markdown",
   "id": "3b6e1b81",
   "metadata": {},
   "source": [
    "Condition Number"
   ]
  },
  {
   "cell_type": "code",
   "execution_count": 8,
   "id": "f3876f43",
   "metadata": {
    "scrolled": true
   },
   "outputs": [
    {
     "name": "stdout",
     "output_type": "stream",
     "text": [
      "condition number: 18.593103585331082\n"
     ]
    }
   ],
   "source": [
    "A = np.array([[1,2],\n",
    "             [3,4]])\n",
    "condition_number = np.linalg.cond(arr)\n",
    "print('condition number:',condition_number)"
   ]
  },
  {
   "cell_type": "markdown",
   "id": "d3ef5b89",
   "metadata": {},
   "source": [
    "1.correlation"
   ]
  },
  {
   "cell_type": "code",
   "execution_count": 9,
   "id": "e219c9f7",
   "metadata": {},
   "outputs": [
    {
     "data": {
      "text/html": [
       "<div>\n",
       "<style scoped>\n",
       "    .dataframe tbody tr th:only-of-type {\n",
       "        vertical-align: middle;\n",
       "    }\n",
       "\n",
       "    .dataframe tbody tr th {\n",
       "        vertical-align: top;\n",
       "    }\n",
       "\n",
       "    .dataframe thead th {\n",
       "        text-align: right;\n",
       "    }\n",
       "</style>\n",
       "<table border=\"1\" class=\"dataframe\">\n",
       "  <thead>\n",
       "    <tr style=\"text-align: right;\">\n",
       "      <th></th>\n",
       "      <th>Unnamed: 0</th>\n",
       "      <th>TV</th>\n",
       "      <th>Radio</th>\n",
       "      <th>Newspaper</th>\n",
       "      <th>Sales</th>\n",
       "    </tr>\n",
       "  </thead>\n",
       "  <tbody>\n",
       "    <tr>\n",
       "      <th>0</th>\n",
       "      <td>1</td>\n",
       "      <td>230.1</td>\n",
       "      <td>37.8</td>\n",
       "      <td>69.2</td>\n",
       "      <td>22.1</td>\n",
       "    </tr>\n",
       "    <tr>\n",
       "      <th>1</th>\n",
       "      <td>2</td>\n",
       "      <td>44.5</td>\n",
       "      <td>39.3</td>\n",
       "      <td>45.1</td>\n",
       "      <td>10.4</td>\n",
       "    </tr>\n",
       "    <tr>\n",
       "      <th>2</th>\n",
       "      <td>3</td>\n",
       "      <td>17.2</td>\n",
       "      <td>45.9</td>\n",
       "      <td>69.3</td>\n",
       "      <td>9.3</td>\n",
       "    </tr>\n",
       "    <tr>\n",
       "      <th>3</th>\n",
       "      <td>4</td>\n",
       "      <td>151.5</td>\n",
       "      <td>41.3</td>\n",
       "      <td>58.5</td>\n",
       "      <td>18.5</td>\n",
       "    </tr>\n",
       "    <tr>\n",
       "      <th>4</th>\n",
       "      <td>5</td>\n",
       "      <td>180.8</td>\n",
       "      <td>10.8</td>\n",
       "      <td>58.4</td>\n",
       "      <td>12.9</td>\n",
       "    </tr>\n",
       "  </tbody>\n",
       "</table>\n",
       "</div>"
      ],
      "text/plain": [
       "   Unnamed: 0     TV  Radio  Newspaper  Sales\n",
       "0           1  230.1   37.8       69.2   22.1\n",
       "1           2   44.5   39.3       45.1   10.4\n",
       "2           3   17.2   45.9       69.3    9.3\n",
       "3           4  151.5   41.3       58.5   18.5\n",
       "4           5  180.8   10.8       58.4   12.9"
      ]
     },
     "execution_count": 9,
     "metadata": {},
     "output_type": "execute_result"
    }
   ],
   "source": [
    "import pandas as pd\n",
    "import seaborn as sns \n",
    "\n",
    "df = pd.read_csv('https://raw.githubusercontent.com/justmarkham/scikit-learn-videos/master/data/Advertising.csv')\n",
    "df.head()"
   ]
  },
  {
   "cell_type": "code",
   "execution_count": 10,
   "id": "9c2614ac",
   "metadata": {
    "scrolled": true
   },
   "outputs": [
    {
     "data": {
      "text/plain": [
       "<AxesSubplot:>"
      ]
     },
     "execution_count": 10,
     "metadata": {},
     "output_type": "execute_result"
    },
    {
     "data": {
      "image/png": "[encoded data removed]",
      "text/plain": [
       "<Figure size 432x288 with 2 Axes>"
      ]
     },
     "metadata": {
      "needs_background": "light"
     },
     "output_type": "display_data"
    }
   ],
   "source": [
    "sns.heatmap(df.corr(),annot = True)"
   ]
  },
  {
   "cell_type": "markdown",
   "id": "77a710ac",
   "metadata": {},
   "source": [
    "VIF"
   ]
  },
  {
   "cell_type": "code",
   "execution_count": 11,
   "id": "5c8ac128",
   "metadata": {},
   "outputs": [
    {
     "name": "stdout",
     "output_type": "stream",
     "text": [
      "Defaulting to user installation because normal site-packages is not writeable\n",
      "Requirement already satisfied: statsmodels in /nfs/cms/mtech23/lute.gaurav/.local/lib/python3.10/site-packages (0.14.2)\n",
      "Requirement already satisfied: numpy>=1.22.3 in /nfs/cms/mtech23/lute.gaurav/.local/lib/python3.10/site-packages (from statsmodels) (1.24.3)\n",
      "Requirement already satisfied: scipy!=1.9.2,>=1.8 in /usr/lib/python3/dist-packages (from statsmodels) (1.8.0)\n",
      "Requirement already satisfied: pandas!=2.1.0,>=1.4 in /nfs/cms/mtech23/lute.gaurav/.local/lib/python3.10/site-packages (from statsmodels) (2.2.1)\n",
      "Requirement already satisfied: patsy>=0.5.6 in /nfs/cms/mtech23/lute.gaurav/.local/lib/python3.10/site-packages (from statsmodels) (0.5.6)\n",
      "Requirement already satisfied: packaging>=21.3 in /usr/lib/python3/dist-packages (from statsmodels) (21.3)\n",
      "Requirement already satisfied: python-dateutil>=2.8.2 in /nfs/cms/mtech23/lute.gaurav/.local/lib/python3.10/site-packages (from pandas!=2.1.0,>=1.4->statsmodels) (2.9.0.post0)\n",
      "Requirement already satisfied: pytz>=2020.1 in /usr/lib/python3/dist-packages (from pandas!=2.1.0,>=1.4->statsmodels) (2022.1)\n",
      "Requirement already satisfied: tzdata>=2022.7 in /nfs/cms/mtech23/lute.gaurav/.local/lib/python3.10/site-packages (from pandas!=2.1.0,>=1.4->statsmodels) (2024.1)\n",
      "Requirement already satisfied: six in /usr/lib/python3/dist-packages (from patsy>=0.5.6->statsmodels) (1.16.0)\n",
      "Note: you may need to restart the kernel to use updated packages.\n"
     ]
    }
   ],
   "source": [
    "pip install statsmodels"
   ]
  },
  {
   "cell_type": "code",
   "execution_count": 12,
   "id": "e029decc",
   "metadata": {},
   "outputs": [],
   "source": [
    "from statsmodels.stats.outliers_influence import variance_inflation_factor\n",
    "vif = []\n",
    "for i in range(3):\n",
    "    vif.append(variance_inflation_factor(df.iloc[:,1:4], i))"
   ]
  },
  {
   "cell_type": "code",
   "execution_count": 13,
   "id": "53a09c00",
   "metadata": {},
   "outputs": [
    {
     "data": {
      "text/html": [
       "<div>\n",
       "<style scoped>\n",
       "    .dataframe tbody tr th:only-of-type {\n",
       "        vertical-align: middle;\n",
       "    }\n",
       "\n",
       "    .dataframe tbody tr th {\n",
       "        vertical-align: top;\n",
       "    }\n",
       "\n",
       "    .dataframe thead th {\n",
       "        text-align: right;\n",
       "    }\n",
       "</style>\n",
       "<table border=\"1\" class=\"dataframe\">\n",
       "  <thead>\n",
       "    <tr style=\"text-align: right;\">\n",
       "      <th></th>\n",
       "      <th>TV</th>\n",
       "      <th>Radio</th>\n",
       "      <th>Newspaper</th>\n",
       "    </tr>\n",
       "  </thead>\n",
       "  <tbody>\n",
       "    <tr>\n",
       "      <th>vif</th>\n",
       "      <td>2.486772</td>\n",
       "      <td>3.285462</td>\n",
       "      <td>3.055245</td>\n",
       "    </tr>\n",
       "  </tbody>\n",
       "</table>\n",
       "</div>"
      ],
      "text/plain": [
       "           TV     Radio  Newspaper\n",
       "vif  2.486772  3.285462   3.055245"
      ]
     },
     "execution_count": 13,
     "metadata": {},
     "output_type": "execute_result"
    }
   ],
   "source": [
    "pd.DataFrame({'vif': vif}, index = df.columns[1:4]).T"
   ]
  },
  {
   "cell_type": "code",
   "execution_count": 14,
   "id": "fb9bdc1c",
   "metadata": {},
   "outputs": [
    {
     "data": {
      "text/html": [
       "<div>\n",
       "<style scoped>\n",
       "    .dataframe tbody tr th:only-of-type {\n",
       "        vertical-align: middle;\n",
       "    }\n",
       "\n",
       "    .dataframe tbody tr th {\n",
       "        vertical-align: top;\n",
       "    }\n",
       "\n",
       "    .dataframe thead th {\n",
       "        text-align: right;\n",
       "    }\n",
       "</style>\n",
       "<table border=\"1\" class=\"dataframe\">\n",
       "  <thead>\n",
       "    <tr style=\"text-align: right;\">\n",
       "      <th></th>\n",
       "      <th>X1</th>\n",
       "      <th>X2</th>\n",
       "      <th>X3</th>\n",
       "      <th>y</th>\n",
       "    </tr>\n",
       "  </thead>\n",
       "  <tbody>\n",
       "    <tr>\n",
       "      <th>X1</th>\n",
       "      <td>1.000000</td>\n",
       "      <td>0.882948</td>\n",
       "      <td>-0.048636</td>\n",
       "      <td>0.148108</td>\n",
       "    </tr>\n",
       "    <tr>\n",
       "      <th>X2</th>\n",
       "      <td>0.882948</td>\n",
       "      <td>1.000000</td>\n",
       "      <td>-0.054696</td>\n",
       "      <td>0.165352</td>\n",
       "    </tr>\n",
       "    <tr>\n",
       "      <th>X3</th>\n",
       "      <td>-0.048636</td>\n",
       "      <td>-0.054696</td>\n",
       "      <td>1.000000</td>\n",
       "      <td>0.071536</td>\n",
       "    </tr>\n",
       "    <tr>\n",
       "      <th>y</th>\n",
       "      <td>0.148108</td>\n",
       "      <td>0.165352</td>\n",
       "      <td>0.071536</td>\n",
       "      <td>1.000000</td>\n",
       "    </tr>\n",
       "  </tbody>\n",
       "</table>\n",
       "</div>"
      ],
      "text/plain": [
       "          X1        X2        X3         y\n",
       "X1  1.000000  0.882948 -0.048636  0.148108\n",
       "X2  0.882948  1.000000 -0.054696  0.165352\n",
       "X3 -0.048636 -0.054696  1.000000  0.071536\n",
       "y   0.148108  0.165352  0.071536  1.000000"
      ]
     },
     "execution_count": 14,
     "metadata": {},
     "output_type": "execute_result"
    }
   ],
   "source": [
    "import numpy as np\n",
    "import pandas as pd\n",
    "import statsmodels.api as sm\n",
    "from sklearn.datasets import make_regression\n",
    "\n",
    "# Generate a synthetic datasets with multicolinearity \n",
    "np.random.seed(42)\n",
    "X, y = make_regression(n_samples = 100, n_features=3, noise=0.5, random_state = 42)\n",
    "X[:, 1] = X[:, 0] + 0.5 * np.random.normal(size = 100)\n",
    "\n",
    "# convert data to a pandas DataFrame\n",
    "data = pd.DataFrame(X, columns = ['X1','X2','X3'])\n",
    "data['y'] = y\n",
    "data.corr()"
   ]
  },
  {
   "cell_type": "code",
   "execution_count": 15,
   "id": "8e118187",
   "metadata": {
    "scrolled": true
   },
   "outputs": [
    {
     "name": "stdout",
     "output_type": "stream",
     "text": [
      "Regression Summary for the model with all predictors :\n",
      "                            OLS Regression Results                            \n",
      "==============================================================================\n",
      "Dep. Variable:                      y   R-squared:                       0.034\n",
      "Model:                            OLS   Adj. R-squared:                  0.004\n",
      "Method:                 Least Squares   F-statistic:                     1.122\n",
      "Date:                Tue, 18 Jun 2024   Prob (F-statistic):              0.344\n",
      "Time:                        18:19:02   Log-Likelihood:                -581.96\n",
      "No. Observations:                 100   AIC:                             1172.\n",
      "Df Residuals:                      96   BIC:                             1182.\n",
      "Df Model:                           3                                         \n",
      "Covariance Type:            nonrobust                                         \n",
      "==============================================================================\n",
      "                 coef    std err          t      P>|t|      [0.025      0.975]\n",
      "------------------------------------------------------------------------------\n",
      "const          5.6185      8.572      0.655      0.514     -11.397      22.634\n",
      "X1             0.9804     21.591      0.045      0.964     -41.877      43.838\n",
      "X2            13.9157     18.451      0.754      0.453     -22.710      50.542\n",
      "X3             6.8796      8.552      0.804      0.423     -10.095      23.854\n",
      "==============================================================================\n",
      "Omnibus:                        8.100   Durbin-Watson:                   2.070\n",
      "Prob(Omnibus):                  0.017   Jarque-Bera (JB):                8.233\n",
      "Skew:                           0.531   Prob(JB):                       0.0163\n",
      "Kurtosis:                       3.921   Cond. No.                         4.13\n",
      "==============================================================================\n",
      "\n",
      "Notes:\n",
      "[1] Standard Errors assume that the covariance matrix of the errors is correctly specified.\n"
     ]
    }
   ],
   "source": [
    "# Add a constant term to the predictor variable\n",
    "data_with_constant_all = sm.add_constant(data[['X1', 'X2','X3']])\n",
    "data_with_constant_reduced = sm.add_constant(data[['X1','X2','X3']])\n",
    "\n",
    "# create and fit an OLS model using all three predictor variables\n",
    "model_all = sm.OLS(data[\"y\"],data_with_constant_all).fit()\n",
    "\n",
    "# print the summary for the model with all predictor\n",
    "print('Regression Summary for the model with all predictors :')\n",
    "print(model_all.summary())"
   ]
  },
  {
   "cell_type": "code",
   "execution_count": 16,
   "id": "1c421af8",
   "metadata": {
    "scrolled": true
   },
   "outputs": [
    {
     "name": "stdout",
     "output_type": "stream",
     "text": [
      "Correlation Matrix :\n",
      "           X1        X2        X3         y\n",
      "X1  1.000000  0.882948 -0.048636  0.148108\n",
      "X2  0.882948  1.000000 -0.054696  0.165352\n",
      "X3 -0.048636 -0.054696  1.000000  0.071536\n",
      "y   0.148108  0.165352  0.071536  1.000000\n",
      "Regression Summary for the model with all predictors:\n",
      "                            OLS Regression Results                            \n",
      "==============================================================================\n",
      "Dep. Variable:                      y   R-squared:                       0.034\n",
      "Model:                            OLS   Adj. R-squared:                  0.004\n",
      "Method:                 Least Squares   F-statistic:                     1.122\n",
      "Date:                Tue, 18 Jun 2024   Prob (F-statistic):              0.344\n",
      "Time:                        18:19:02   Log-Likelihood:                -581.96\n",
      "No. Observations:                 100   AIC:                             1172.\n",
      "Df Residuals:                      96   BIC:                             1182.\n",
      "Df Model:                           3                                         \n",
      "Covariance Type:            nonrobust                                         \n",
      "==============================================================================\n",
      "                 coef    std err          t      P>|t|      [0.025      0.975]\n",
      "------------------------------------------------------------------------------\n",
      "const          5.6185      8.572      0.655      0.514     -11.397      22.634\n",
      "X1             0.9804     21.591      0.045      0.964     -41.877      43.838\n",
      "X2            13.9157     18.451      0.754      0.453     -22.710      50.542\n",
      "X3             6.8796      8.552      0.804      0.423     -10.095      23.854\n",
      "==============================================================================\n",
      "Omnibus:                        8.100   Durbin-Watson:                   2.070\n",
      "Prob(Omnibus):                  0.017   Jarque-Bera (JB):                8.233\n",
      "Skew:                           0.531   Prob(JB):                       0.0163\n",
      "Kurtosis:                       3.921   Cond. No.                         4.13\n",
      "==============================================================================\n",
      "\n",
      "Notes:\n",
      "[1] Standard Errors assume that the covariance matrix of the errors is correctly specified.\n",
      "\n",
      "Regression Summary for the model with combined predictors (X1_X2_combined and X3):\n",
      "                            OLS Regression Results                            \n",
      "==============================================================================\n",
      "Dep. Variable:                      y   R-squared:                       0.033\n",
      "Model:                            OLS   Adj. R-squared:                  0.013\n",
      "Method:                 Least Squares   F-statistic:                     1.643\n",
      "Date:                Tue, 18 Jun 2024   Prob (F-statistic):              0.199\n",
      "Time:                        18:19:02   Log-Likelihood:                -582.02\n",
      "No. Observations:                 100   AIC:                             1170.\n",
      "Df Residuals:                      97   BIC:                             1178.\n",
      "Df Model:                           2                                         \n",
      "Covariance Type:            nonrobust                                         \n",
      "==================================================================================\n",
      "                     coef    std err          t      P>|t|      [0.025      0.975]\n",
      "----------------------------------------------------------------------------------\n",
      "const              5.2059      8.443      0.617      0.539     -11.552      21.963\n",
      "X1_X2_combined    15.9730      9.594      1.665      0.099      -3.068      35.014\n",
      "X3                 6.8469      8.512      0.804      0.423     -10.047      23.740\n",
      "==============================================================================\n",
      "Omnibus:                        8.244   Durbin-Watson:                   2.077\n",
      "Prob(Omnibus):                  0.016   Jarque-Bera (JB):                8.431\n",
      "Skew:                           0.536   Prob(JB):                       0.0148\n",
      "Kurtosis:                       3.935   Cond. No.                         1.27\n",
      "==============================================================================\n",
      "\n",
      "Notes:\n",
      "[1] Standard Errors assume that the covariance matrix of the errors is correctly specified.\n"
     ]
    }
   ],
   "source": [
    "import numpy as np\n",
    "import pandas as pd\n",
    "import statsmodels.api as sm\n",
    "from sklearn.datasets import make_regression\n",
    "\n",
    "# Generate a synthetic datasets with multicolinearity\n",
    "np.random.seed(42)\n",
    "X, y = make_regression(n_samples =100, n_features = 3, noise = 0.5, random_state = 42)\n",
    "X[:,1] = X[:, 0] + 0.5 * np.random.normal(size = 100) # Introduce multicolinearity between columns 0 and 1\n",
    "\n",
    "# convert data to a pandas DataFrame\n",
    "data = pd.DataFrame(X, columns = ['X1','X2','X3'])\n",
    "data['y'] =y\n",
    "\n",
    "# calculate correlation matrix \n",
    "corr_matrix = data.corr()\n",
    "print('Correlation Matrix :\\n', corr_matrix)\n",
    "\n",
    "# combine the correlated variable X1 and X2 by taking their average\n",
    "data['X1_X2_combined'] = (data['X1'] + data['X2']) / 2\n",
    "\n",
    "# Add a constant term to the predictor variables\n",
    "data_with_constant_all = sm.add_constant(data[['X1','X2','X3']])\n",
    "data_with_constant_combined = sm.add_constant(data[['X1_X2_combined','X3']])\n",
    "\n",
    "#create and fit an OLS model using all three predictor variable\n",
    "model_all = sm.OLS(data['y'],data_with_constant_all).fit()\n",
    "\n",
    "# print the summary for the model with all predictors \n",
    "print('Regression Summary for the model with all predictors:')\n",
    "print(model_all.summary())\n",
    "\n",
    "# create and fit an OLS model using the combined variable with X3\n",
    "model_combined = sm.OLS(data['y'],data_with_constant_combined).fit()\n",
    "\n",
    "# print the summary for the model with combined variable and ols \n",
    "print('\\nRegression Summary for the model with combined predictors (X1_X2_combined and X3):')\n",
    "print(model_combined.summary())"
   ]
  },
  {
   "cell_type": "markdown",
   "id": "0029edda",
   "metadata": {},
   "source": [
    "#Partial Least Regression "
   ]
  },
  {
   "cell_type": "code",
   "execution_count": 17,
   "id": "61d9414d",
   "metadata": {
    "scrolled": false
   },
   "outputs": [
    {
     "name": "stdout",
     "output_type": "stream",
     "text": [
      "Mean squared error of PLS model : 7359.987203343638\n"
     ]
    }
   ],
   "source": [
    "import numpy as np\n",
    "import pandas as pd\n",
    "from sklearn.datasets import make_regression\n",
    "from sklearn.model_selection import train_test_split\n",
    "from sklearn.metrics import mean_squared_error\n",
    "from sklearn.cross_decomposition import PLSRegression\n",
    "\n",
    "# Generate a synthetic datasets with multicolinearity \n",
    "np.random.seed(42)\n",
    "X, y = make_regression(n_samples = 100, n_features = 3, noise =  0.5, random_state = 42)\n",
    "X[:, 1] = X[:, 0] + 0.5 * np.random.normal(size = 100) # Introduce multicolinearity between columns 0 and 1\n",
    "\n",
    "# convert data to a pandas DataFrame\n",
    "data = pd.DataFrame(X, columns= ['X1','X2','X3'])\n",
    "data['y']=y\n",
    "\n",
    "# split the datasets into training and testing sets \n",
    "X_train,X_test,y_train,y_test = train_test_split(data[['X1','X2','X3']], data['y'], test_size = 0.2, random_state= 42)\n",
    "\n",
    "# Create a PLS model with 2 components\n",
    "pls_model = PLSRegression(n_components = 2)\n",
    "\n",
    "# fit the PLS model using the training data\n",
    "pls_model.fit(X_train,y_train)\n",
    "\n",
    "# Predict the output using the test data\n",
    "y_pred = pls_model.predict(X_test)\n",
    "\n",
    "# calculate the mean squared error of the predictions \n",
    "mse = mean_squared_error(y_test, y_pred)\n",
    "print('Mean squared error of PLS model :', mse)"
   ]
  },
  {
   "cell_type": "code",
   "execution_count": null,
   "id": "ad368c3a",
   "metadata": {},
   "outputs": [],
   "source": []
  },
  {
   "cell_type": "code",
   "execution_count": null,
   "id": "690ff116",
   "metadata": {},
   "outputs": [],
   "source": []
  },
  {
   "cell_type": "code",
   "execution_count": null,
   "id": "5d60c33b",
   "metadata": {},
   "outputs": [],
   "source": []
  }
 ],
 "metadata": {
  "kernelspec": {
   "display_name": "Python 3 (ipykernel)",
   "language": "python",
   "name": "python3"
  },
  "language_info": {
   "codemirror_mode": {
    "name": "ipython",
    "version": 3
   },
   "file_extension": ".py",
   "mimetype": "text/x-python",
   "name": "python",
   "nbconvert_exporter": "python",
   "pygments_lexer": "ipython3",
   "version": "3.10.12"
  }
 },
 "nbformat": 4,
 "nbformat_minor": 5
}
